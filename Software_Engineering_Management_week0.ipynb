{
  "nbformat": 4,
  "nbformat_minor": 0,
  "metadata": {
    "colab": {
      "provenance": [],
      "authorship_tag": "ABX9TyPRLuMt0JhrTxTA9zW3GAN+",
      "include_colab_link": true
    },
    "kernelspec": {
      "name": "python3",
      "display_name": "Python 3"
    },
    "language_info": {
      "name": "python"
    }
  },
  "cells": [
    {
      "cell_type": "markdown",
      "metadata": {
        "id": "view-in-github",
        "colab_type": "text"
      },
      "source": [
        "<a href=\"https://colab.research.google.com/github/llan03/CMU_SEM/blob/main/Software_Engineering_Management_week0.ipynb\" target=\"_parent\"><img src=\"https://colab.research.google.com/assets/colab-badge.svg\" alt=\"Open In Colab\"/></a>"
      ]
    },
    {
      "cell_type": "code",
      "execution_count": null,
      "metadata": {
        "id": "Gl1RDl85Vwwc"
      },
      "outputs": [],
      "source": [
        "import cellxgene_census\n",
        "\n",
        "help(cellxgene_census)\n",
        "help(cellxgene_census.get_anndata)"
      ]
    },
    {
      "cell_type": "code",
      "source": [
        "import cellxgene_census\n",
        "\n",
        "with cellxgene_census.open_soma() as census:\n",
        "\n",
        "    # Reads SOMADataFrame as a slice\n",
        "    cell_metadata = census[\"census_data\"][\"homo_sapiens\"].obs.read(\n",
        "        value_filter = \"sex == 'female' and cell_type in ['microglial cell', 'neuron']\",\n",
        "        column_names = [\"assay\", \"cell_type\", \"tissue\", \"tissue_general\", \"suspension_type\", \"disease\"]\n",
        "    )\n",
        "\n",
        "    # Concatenates results to pyarrow.Table\n",
        "    cell_metadata = cell_metadata.concat()\n",
        "\n",
        "    # Converts to pandas.DataFrame\n",
        "    cell_metadata = cell_metadata.to_pandas()\n",
        "\n",
        "    print(cell_metadata)"
      ],
      "metadata": {
        "colab": {
          "base_uri": "https://localhost:8080/"
        },
        "id": "Tq8YiKPVjmfB",
        "outputId": "079f91f0-4be1-48fa-dcd3-3f7e83304b99"
      },
      "execution_count": null,
      "outputs": [
        {
          "output_type": "stream",
          "name": "stderr",
          "text": [
            "The \"stable\" release is currently 2024-07-01. Specify 'census_version=\"2024-07-01\"' in future calls to open_soma() to ensure data consistency.\n",
            "INFO:cellxgene_census:The \"stable\" release is currently 2024-07-01. Specify 'census_version=\"2024-07-01\"' in future calls to open_soma() to ensure data consistency.\n"
          ]
        },
        {
          "output_type": "stream",
          "name": "stdout",
          "text": [
            "            assay        cell_type                          tissue  \\\n",
            "0       10x 5' v1           neuron                            lung   \n",
            "1       10x 5' v1           neuron                            lung   \n",
            "2       10x 5' v1           neuron                            lung   \n",
            "3       10x 5' v1           neuron                            lung   \n",
            "4       10x 5' v1           neuron                            lung   \n",
            "...           ...              ...                             ...   \n",
            "732776  10x 3' v3  microglial cell  dorsolateral prefrontal cortex   \n",
            "732777  10x 3' v3  microglial cell  dorsolateral prefrontal cortex   \n",
            "732778  10x 3' v3  microglial cell  dorsolateral prefrontal cortex   \n",
            "732779  10x 3' v3  microglial cell  dorsolateral prefrontal cortex   \n",
            "732780  10x 3' v3  microglial cell  dorsolateral prefrontal cortex   \n",
            "\n",
            "       tissue_general suspension_type   disease     sex  \n",
            "0                lung            cell    normal  female  \n",
            "1                lung            cell    normal  female  \n",
            "2                lung            cell    normal  female  \n",
            "3                lung            cell    normal  female  \n",
            "4                lung            cell    normal  female  \n",
            "...               ...             ...       ...     ...  \n",
            "732776          brain         nucleus    normal  female  \n",
            "732777          brain         nucleus    normal  female  \n",
            "732778          brain         nucleus  dementia  female  \n",
            "732779          brain         nucleus  dementia  female  \n",
            "732780          brain         nucleus  dementia  female  \n",
            "\n",
            "[732781 rows x 7 columns]\n"
          ]
        }
      ]
    },
    {
      "cell_type": "code",
      "source": [
        "import cellxgene_census\n",
        "\n",
        "with cellxgene_census.open_soma() as census:\n",
        "    adata = cellxgene_census.get_anndata(\n",
        "        census = census,\n",
        "        organism = \"Homo sapiens\",\n",
        "        var_value_filter = \"feature_id in ['ENSG00000161798', 'ENSG00000188229']\",\n",
        "        obs_value_filter = \"sex == 'female' and cell_type in ['microglial cell', 'neuron']\",\n",
        "        column_names = {\"obs\": [\"assay\", \"cell_type\", \"tissue\", \"tissue_general\", \"suspension_type\", \"disease\"]},\n",
        "    )\n",
        "\n",
        "    print(adata)"
      ],
      "metadata": {
        "colab": {
          "base_uri": "https://localhost:8080/"
        },
        "id": "TsA9wJYMjmxS",
        "outputId": "076a4ccf-4b17-46ff-fe18-36bd935bef31"
      },
      "execution_count": null,
      "outputs": [
        {
          "output_type": "stream",
          "name": "stderr",
          "text": [
            "The \"stable\" release is currently 2024-07-01. Specify 'census_version=\"2024-07-01\"' in future calls to open_soma() to ensure data consistency.\n",
            "INFO:cellxgene_census:The \"stable\" release is currently 2024-07-01. Specify 'census_version=\"2024-07-01\"' in future calls to open_soma() to ensure data consistency.\n",
            "<ipython-input-2-31ea77b51fb3>:4: FutureWarning: The argument `column_names` is deprecated and will be removed in a future release. Please use `obs_column_names` and `var_column_names` instead.\n",
            "  adata = cellxgene_census.get_anndata(\n"
          ]
        },
        {
          "output_type": "stream",
          "name": "stdout",
          "text": [
            "AnnData object with n_obs × n_vars = 732781 × 2\n",
            "    obs: 'assay', 'cell_type', 'tissue', 'tissue_general', 'suspension_type', 'disease', 'sex'\n",
            "    var: 'soma_joinid', 'feature_id', 'feature_name', 'feature_length', 'nnz', 'n_measured_obs'\n"
          ]
        }
      ]
    },
    {
      "cell_type": "code",
      "source": [
        "import cellxgene_census\n",
        "import tiledbsoma\n",
        "\n",
        "with cellxgene_census.open_soma() as census:\n",
        "\n",
        "    human = census[\"census_data\"][\"homo_sapiens\"]\n",
        "    query = human.axis_query(\n",
        "       measurement_name = \"RNA\",\n",
        "       obs_query = tiledbsoma.AxisQuery(\n",
        "           value_filter = \"tissue == 'brain' and sex == 'male'\"\n",
        "       )\n",
        "    )\n",
        "\n",
        "    # Continued below\n",
        "    # Continued from above\n",
        "\n",
        "    iterator = query.X(\"raw\").tables()\n",
        "\n",
        "    # Get an iterative slice as pyarrow.Table\n",
        "    raw_slice = next (iterator)\n",
        "    #...\n",
        "    row_count = raw_slice.num_rows\n",
        "    print(f\"Number of rows: {row_count}\")\n",
        "    # Continued from above\n",
        "    query.close()"
      ],
      "metadata": {
        "colab": {
          "base_uri": "https://localhost:8080/"
        },
        "id": "tGcCcOk8jtmR",
        "outputId": "f6136c87-b345-43be-ccb8-7d9ed20f4c78"
      },
      "execution_count": null,
      "outputs": [
        {
          "output_type": "stream",
          "name": "stderr",
          "text": [
            "The \"stable\" release is currently 2024-07-01. Specify 'census_version=\"2024-07-01\"' in future calls to open_soma() to ensure data consistency.\n",
            "INFO:cellxgene_census:The \"stable\" release is currently 2024-07-01. Specify 'census_version=\"2024-07-01\"' in future calls to open_soma() to ensure data consistency.\n"
          ]
        },
        {
          "output_type": "stream",
          "name": "stdout",
          "text": [
            "Number of rows: 134217728\n"
          ]
        }
      ]
    },
    {
      "cell_type": "code",
      "source": [],
      "metadata": {
        "id": "LN3nELJQmHKd"
      },
      "execution_count": null,
      "outputs": []
    }
  ]
}